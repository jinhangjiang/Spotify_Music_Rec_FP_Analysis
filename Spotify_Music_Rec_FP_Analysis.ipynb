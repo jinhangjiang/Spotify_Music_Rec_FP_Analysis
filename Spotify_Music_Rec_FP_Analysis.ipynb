{
  "nbformat": 4,
  "nbformat_minor": 0,
  "metadata": {
    "colab": {
      "name": "Spotify_Music_Rec_FP_Analysis.ipynb",
      "provenance": []
    },
    "kernelspec": {
      "name": "python3",
      "display_name": "Python 3"
    },
    "language_info": {
      "name": "python"
    }
  },
  "cells": [
    {
      "cell_type": "code",
      "execution_count": 590,
      "metadata": {
        "id": "MkueWBjO8XMi"
      },
      "outputs": [],
      "source": [
        "import pandas as pd\n",
        "import seaborn as sns\n",
        "import matplotlib.pyplot as plt\n",
        "from sklearn.model_selection import train_test_split\n",
        "from sklearn.ensemble import RandomForestClassifier\n",
        "from sklearn.metrics import confusion_matrix, f1_score, precision_score"
      ]
    },
    {
      "cell_type": "code",
      "source": [
        "df = pd.read_csv(\"data.csv\")"
      ],
      "metadata": {
        "id": "rtfm_K358rN3"
      },
      "execution_count": 591,
      "outputs": []
    },
    {
      "cell_type": "code",
      "source": [
        "df = df[df.liked==1].append(df[df.liked==0][0:60])"
      ],
      "metadata": {
        "id": "5qxVlSaUFzOg"
      },
      "execution_count": 592,
      "outputs": []
    },
    {
      "cell_type": "code",
      "source": [
        "X_train, X_test, y_train, y_test = train_test_split(df.iloc[:,:13], df.liked, test_size=0.85,random_state=42)"
      ],
      "metadata": {
        "id": "1SXpUErC9RkM"
      },
      "execution_count": 593,
      "outputs": []
    },
    {
      "cell_type": "code",
      "source": [
        "print('y_train ----------------')\n",
        "print(y_train.value_counts())\n",
        "print('y_test ----------------')\n",
        "print(y_test.value_counts())"
      ],
      "metadata": {
        "colab": {
          "base_uri": "https://localhost:8080/"
        },
        "id": "4msd2J4ME2CW",
        "outputId": "e9271480-f3d6-4939-d644-ed1772e7332c"
      },
      "execution_count": 594,
      "outputs": [
        {
          "output_type": "stream",
          "name": "stdout",
          "text": [
            "y_train ----------------\n",
            "1    14\n",
            "0    10\n",
            "Name: liked, dtype: int64\n",
            "y_test ----------------\n",
            "1    86\n",
            "0    50\n",
            "Name: liked, dtype: int64\n"
          ]
        }
      ]
    },
    {
      "cell_type": "markdown",
      "source": [
        "## Base Model"
      ],
      "metadata": {
        "id": "fwWAF9j5GB2m"
      }
    },
    {
      "cell_type": "code",
      "source": [
        "rfc_base = RandomForestClassifier(n_estimators=10, random_state=42).fit(X_train, y_train)"
      ],
      "metadata": {
        "id": "5FwZk5xCE9bW"
      },
      "execution_count": 595,
      "outputs": []
    },
    {
      "cell_type": "code",
      "source": [
        "tn, fp, fn, tp = confusion_matrix(y_test, rfc_base.predict(X_test)).ravel()\n",
        "print((\"False Positive:\", fp),(\"False Negative:\", fn),(\"Precision Score:\", precision_score(y_test, rfc_base.predict(X_test))),(\"F1 Score\",f1_score(y_test, rfc_base.predict(X_test))))"
      ],
      "metadata": {
        "colab": {
          "base_uri": "https://localhost:8080/"
        },
        "id": "HUvb1JDXGKXI",
        "outputId": "65e3aa92-c9ea-4da5-c712-99fb14500e1f"
      },
      "execution_count": 596,
      "outputs": [
        {
          "output_type": "stream",
          "name": "stdout",
          "text": [
            "('False Positive:', 8) ('False Negative:', 13) ('Precision Score:', 0.9012345679012346) ('F1 Score', 0.874251497005988)\n"
          ]
        }
      ]
    },
    {
      "cell_type": "markdown",
      "source": [
        "## Adjust the predict_proba"
      ],
      "metadata": {
        "id": "TEKjMRWZMwe5"
      }
    },
    {
      "cell_type": "code",
      "source": [
        "bar = 0.9"
      ],
      "metadata": {
        "id": "7dOb4ovhM80G"
      },
      "execution_count": 597,
      "outputs": []
    },
    {
      "cell_type": "code",
      "source": [
        "preds = np.where(pd.DataFrame(rfc_base.predict_proba(X_test))[1] > bar, 1, 0)"
      ],
      "metadata": {
        "id": "DMq_iZHzEVCt"
      },
      "execution_count": 598,
      "outputs": []
    },
    {
      "cell_type": "code",
      "source": [
        "tn, fp, fn, tp = confusion_matrix(y_test, preds).ravel()\n",
        "print((\"False Positive:\", fp),(\"False Negative:\", fn),(\"Precision Score:\", precision_score(y_test, preds)),(\"F1 Score\",f1_score(y_test, preds)))"
      ],
      "metadata": {
        "colab": {
          "base_uri": "https://localhost:8080/"
        },
        "id": "KpDWMMP_LVGd",
        "outputId": "55f0a133-9fa9-45c8-e427-e4aa50a329cd"
      },
      "execution_count": 599,
      "outputs": [
        {
          "output_type": "stream",
          "name": "stdout",
          "text": [
            "('False Positive:', 0) ('False Negative:', 77) ('Precision Score:', 1.0) ('F1 Score', 0.18947368421052632)\n"
          ]
        }
      ]
    },
    {
      "cell_type": "code",
      "source": [
        "bar = 0.5\n",
        "for i in range(17):\n",
        "  preds = np.where(pd.DataFrame(rfc_base.predict_proba(X_test))[1] > bar, 1, 0)\n",
        "  tn, fp, fn, tp = confusion_matrix(y_test, preds).ravel()\n",
        "  print((\"Bar:\",'%0.4f'%(bar)), \n",
        "        (\"False Positive:\", fp),\n",
        "        (\"False Negative:\", fn),\n",
        "        (\"Precision Score:\", precision_score(y_test, preds)),\n",
        "        (\"F1 Score\",f1_score(y_test, preds)))\n",
        "  bar +=0.025"
      ],
      "metadata": {
        "colab": {
          "base_uri": "https://localhost:8080/"
        },
        "id": "Gmgr4jw_YANC",
        "outputId": "7e653ee3-b4c0-4cf5-da38-0afa98479a32"
      },
      "execution_count": 600,
      "outputs": [
        {
          "output_type": "stream",
          "name": "stdout",
          "text": [
            "('Bar:', '0.5000') ('False Positive:', 8) ('False Negative:', 13) ('Precision Score:', 0.9012345679012346) ('F1 Score', 0.874251497005988)\n",
            "('Bar:', '0.5250') ('False Positive:', 8) ('False Negative:', 13) ('Precision Score:', 0.9012345679012346) ('F1 Score', 0.874251497005988)\n",
            "('Bar:', '0.5500') ('False Positive:', 8) ('False Negative:', 13) ('Precision Score:', 0.9012345679012346) ('F1 Score', 0.874251497005988)\n",
            "('Bar:', '0.5750') ('False Positive:', 8) ('False Negative:', 13) ('Precision Score:', 0.9012345679012346) ('F1 Score', 0.874251497005988)\n",
            "('Bar:', '0.6000') ('False Positive:', 5) ('False Negative:', 23) ('Precision Score:', 0.9264705882352942) ('F1 Score', 0.8181818181818182)\n",
            "('Bar:', '0.6250') ('False Positive:', 5) ('False Negative:', 23) ('Precision Score:', 0.9264705882352942) ('F1 Score', 0.8181818181818182)\n",
            "('Bar:', '0.6500') ('False Positive:', 5) ('False Negative:', 23) ('Precision Score:', 0.9264705882352942) ('F1 Score', 0.8181818181818182)\n",
            "('Bar:', '0.6750') ('False Positive:', 5) ('False Negative:', 23) ('Precision Score:', 0.9264705882352942) ('F1 Score', 0.8181818181818182)\n",
            "('Bar:', '0.7000') ('False Positive:', 3) ('False Negative:', 40) ('Precision Score:', 0.9387755102040817) ('F1 Score', 0.6814814814814815)\n",
            "('Bar:', '0.7250') ('False Positive:', 3) ('False Negative:', 40) ('Precision Score:', 0.9387755102040817) ('F1 Score', 0.6814814814814815)\n",
            "('Bar:', '0.7500') ('False Positive:', 3) ('False Negative:', 40) ('Precision Score:', 0.9387755102040817) ('F1 Score', 0.6814814814814815)\n",
            "('Bar:', '0.7750') ('False Positive:', 3) ('False Negative:', 40) ('Precision Score:', 0.9387755102040817) ('F1 Score', 0.6814814814814815)\n",
            "('Bar:', '0.8000') ('False Positive:', 2) ('False Negative:', 58) ('Precision Score:', 0.9333333333333333) ('F1 Score', 0.4827586206896553)\n",
            "('Bar:', '0.8250') ('False Positive:', 2) ('False Negative:', 58) ('Precision Score:', 0.9333333333333333) ('F1 Score', 0.4827586206896553)\n",
            "('Bar:', '0.8500') ('False Positive:', 2) ('False Negative:', 58) ('Precision Score:', 0.9333333333333333) ('F1 Score', 0.4827586206896553)\n",
            "('Bar:', '0.8750') ('False Positive:', 2) ('False Negative:', 58) ('Precision Score:', 0.9333333333333333) ('F1 Score', 0.4827586206896553)\n",
            "('Bar:', '0.9000') ('False Positive:', 0) ('False Negative:', 77) ('Precision Score:', 1.0) ('F1 Score', 0.18947368421052632)\n"
          ]
        }
      ]
    },
    {
      "cell_type": "markdown",
      "source": [
        "# Adjust class_weights"
      ],
      "metadata": {
        "id": "_Lg1o_taNGRf"
      }
    },
    {
      "cell_type": "code",
      "source": [
        "bar = 1\n",
        "precisionscore = []\n",
        "f1score = []\n",
        "barlist = []\n",
        "fplist = []\n",
        "for i in range(40):\n",
        "  rfc_cw = RandomForestClassifier(n_estimators=10,class_weight={0:1,1:bar}, random_state=42).fit(X_train, y_train)\n",
        "  tn, fp, fn, tp = confusion_matrix(y_test, rfc_cw.predict(X_test)).ravel()\n",
        "  print((\"Bar:\",'%0.2f'%(bar)),\n",
        "        (\"False Positive:\", fp),\n",
        "        (\"False Negative:\", fn),\n",
        "        (\"Precision Score:\", precision_score(y_test, rfc_cw.predict(X_test))),\n",
        "        (\"F1 Score\", f1_score(y_test, rfc_cw.predict(X_test))))\n",
        "  \n",
        "  barlist.append(bar)\n",
        "  precisionscore.append(precision_score(y_test, rfc_cw.predict(X_test)))\n",
        "  f1score.append(f1_score(y_test, rfc_cw.predict(X_test)))\n",
        "  fplist.append(fp)\n",
        "  bar +=0.25"
      ],
      "metadata": {
        "colab": {
          "base_uri": "https://localhost:8080/"
        },
        "id": "XS2reXIoZpPY",
        "outputId": "776e181b-eeeb-4ff2-d1b5-06499ed3dec2"
      },
      "execution_count": 601,
      "outputs": [
        {
          "output_type": "stream",
          "name": "stdout",
          "text": [
            "('Bar:', '1.00') ('False Positive:', 8) ('False Negative:', 13) ('Precision Score:', 0.9012345679012346) ('F1 Score', 0.874251497005988)\n",
            "('Bar:', '1.25') ('False Positive:', 5) ('False Negative:', 17) ('Precision Score:', 0.9324324324324325) ('F1 Score', 0.8625)\n",
            "('Bar:', '1.50') ('False Positive:', 5) ('False Negative:', 17) ('Precision Score:', 0.9324324324324325) ('F1 Score', 0.8625)\n",
            "('Bar:', '1.75') ('False Positive:', 8) ('False Negative:', 17) ('Precision Score:', 0.8961038961038961) ('F1 Score', 0.8466257668711655)\n",
            "('Bar:', '2.00') ('False Positive:', 8) ('False Negative:', 17) ('Precision Score:', 0.8961038961038961) ('F1 Score', 0.8466257668711655)\n",
            "('Bar:', '2.25') ('False Positive:', 8) ('False Negative:', 17) ('Precision Score:', 0.8961038961038961) ('F1 Score', 0.8466257668711655)\n",
            "('Bar:', '2.50') ('False Positive:', 8) ('False Negative:', 17) ('Precision Score:', 0.8961038961038961) ('F1 Score', 0.8466257668711655)\n",
            "('Bar:', '2.75') ('False Positive:', 8) ('False Negative:', 17) ('Precision Score:', 0.8961038961038961) ('F1 Score', 0.8466257668711655)\n",
            "('Bar:', '3.00') ('False Positive:', 8) ('False Negative:', 17) ('Precision Score:', 0.8961038961038961) ('F1 Score', 0.8466257668711655)\n",
            "('Bar:', '3.25') ('False Positive:', 7) ('False Negative:', 17) ('Precision Score:', 0.9078947368421053) ('F1 Score', 0.8518518518518517)\n",
            "('Bar:', '3.50') ('False Positive:', 7) ('False Negative:', 17) ('Precision Score:', 0.9078947368421053) ('F1 Score', 0.8518518518518517)\n",
            "('Bar:', '3.75') ('False Positive:', 7) ('False Negative:', 17) ('Precision Score:', 0.9078947368421053) ('F1 Score', 0.8518518518518517)\n",
            "('Bar:', '4.00') ('False Positive:', 7) ('False Negative:', 17) ('Precision Score:', 0.9078947368421053) ('F1 Score', 0.8518518518518517)\n",
            "('Bar:', '4.25') ('False Positive:', 7) ('False Negative:', 17) ('Precision Score:', 0.9078947368421053) ('F1 Score', 0.8518518518518517)\n",
            "('Bar:', '4.50') ('False Positive:', 7) ('False Negative:', 17) ('Precision Score:', 0.9078947368421053) ('F1 Score', 0.8518518518518517)\n",
            "('Bar:', '4.75') ('False Positive:', 7) ('False Negative:', 17) ('Precision Score:', 0.9078947368421053) ('F1 Score', 0.8518518518518517)\n",
            "('Bar:', '5.00') ('False Positive:', 7) ('False Negative:', 17) ('Precision Score:', 0.9078947368421053) ('F1 Score', 0.8518518518518517)\n",
            "('Bar:', '5.25') ('False Positive:', 7) ('False Negative:', 17) ('Precision Score:', 0.9078947368421053) ('F1 Score', 0.8518518518518517)\n",
            "('Bar:', '5.50') ('False Positive:', 7) ('False Negative:', 17) ('Precision Score:', 0.9078947368421053) ('F1 Score', 0.8518518518518517)\n",
            "('Bar:', '5.75') ('False Positive:', 7) ('False Negative:', 17) ('Precision Score:', 0.9078947368421053) ('F1 Score', 0.8518518518518517)\n",
            "('Bar:', '6.00') ('False Positive:', 7) ('False Negative:', 17) ('Precision Score:', 0.9078947368421053) ('F1 Score', 0.8518518518518517)\n",
            "('Bar:', '6.25') ('False Positive:', 7) ('False Negative:', 17) ('Precision Score:', 0.9078947368421053) ('F1 Score', 0.8518518518518517)\n",
            "('Bar:', '6.50') ('False Positive:', 7) ('False Negative:', 17) ('Precision Score:', 0.9078947368421053) ('F1 Score', 0.8518518518518517)\n",
            "('Bar:', '6.75') ('False Positive:', 7) ('False Negative:', 17) ('Precision Score:', 0.9078947368421053) ('F1 Score', 0.8518518518518517)\n",
            "('Bar:', '7.00') ('False Positive:', 7) ('False Negative:', 17) ('Precision Score:', 0.9078947368421053) ('F1 Score', 0.8518518518518517)\n",
            "('Bar:', '7.25') ('False Positive:', 7) ('False Negative:', 17) ('Precision Score:', 0.9078947368421053) ('F1 Score', 0.8518518518518517)\n",
            "('Bar:', '7.50') ('False Positive:', 7) ('False Negative:', 17) ('Precision Score:', 0.9078947368421053) ('F1 Score', 0.8518518518518517)\n",
            "('Bar:', '7.75') ('False Positive:', 7) ('False Negative:', 17) ('Precision Score:', 0.9078947368421053) ('F1 Score', 0.8518518518518517)\n",
            "('Bar:', '8.00') ('False Positive:', 7) ('False Negative:', 17) ('Precision Score:', 0.9078947368421053) ('F1 Score', 0.8518518518518517)\n",
            "('Bar:', '8.25') ('False Positive:', 7) ('False Negative:', 17) ('Precision Score:', 0.9078947368421053) ('F1 Score', 0.8518518518518517)\n",
            "('Bar:', '8.50') ('False Positive:', 7) ('False Negative:', 17) ('Precision Score:', 0.9078947368421053) ('F1 Score', 0.8518518518518517)\n",
            "('Bar:', '8.75') ('False Positive:', 7) ('False Negative:', 17) ('Precision Score:', 0.9078947368421053) ('F1 Score', 0.8518518518518517)\n",
            "('Bar:', '9.00') ('False Positive:', 7) ('False Negative:', 17) ('Precision Score:', 0.9078947368421053) ('F1 Score', 0.8518518518518517)\n",
            "('Bar:', '9.25') ('False Positive:', 7) ('False Negative:', 17) ('Precision Score:', 0.9078947368421053) ('F1 Score', 0.8518518518518517)\n",
            "('Bar:', '9.50') ('False Positive:', 7) ('False Negative:', 17) ('Precision Score:', 0.9078947368421053) ('F1 Score', 0.8518518518518517)\n",
            "('Bar:', '9.75') ('False Positive:', 7) ('False Negative:', 17) ('Precision Score:', 0.9078947368421053) ('F1 Score', 0.8518518518518517)\n",
            "('Bar:', '10.00') ('False Positive:', 7) ('False Negative:', 17) ('Precision Score:', 0.9078947368421053) ('F1 Score', 0.8518518518518517)\n",
            "('Bar:', '10.25') ('False Positive:', 7) ('False Negative:', 17) ('Precision Score:', 0.9078947368421053) ('F1 Score', 0.8518518518518517)\n",
            "('Bar:', '10.50') ('False Positive:', 7) ('False Negative:', 17) ('Precision Score:', 0.9078947368421053) ('F1 Score', 0.8518518518518517)\n",
            "('Bar:', '10.75') ('False Positive:', 7) ('False Negative:', 17) ('Precision Score:', 0.9078947368421053) ('F1 Score', 0.8518518518518517)\n"
          ]
        }
      ]
    },
    {
      "cell_type": "code",
      "source": [
        "output_df = pd.DataFrame({\n",
        "    'Bar': barlist,\n",
        "    'Precision': precisionscore,\n",
        "    'F1': f1score,\n",
        "    'False Positive': fplist\n",
        "})"
      ],
      "metadata": {
        "id": "m9Z7l_CvpAeW"
      },
      "execution_count": 602,
      "outputs": []
    },
    {
      "cell_type": "code",
      "source": [
        "sns.set(rc={'figure.figsize':(12,8)})\n",
        "\n",
        "fig, ax1 = plt.subplots()\n",
        "\n",
        "ax2 = ax1.twinx()\n",
        "\n",
        "\n",
        "sns.lineplot(x='Bar', y= 'False Positive', color = 'purple', \n",
        "             data=output_df, ax=ax1, markers=True)\n",
        "\n",
        "optimal_point = output_df.loc[output_df['Precision']==max(output_df['Precision']),'Bar'].iloc[0]\n",
        "\n",
        "sns.lineplot(x='Bar', y='value', hue='variable', \n",
        "             data=pd.melt(output_df[['Bar','F1','Precision']], ['Bar']), ax=ax2).set_title(f'The Optimal Bar is {optimal_point}')\n",
        "\n",
        "plt.axvline(optimal_point, ls='--', color='black')\n",
        "\n"
      ],
      "metadata": {
        "colab": {
          "base_uri": "https://localhost:8080/",
          "height": 536
        },
        "id": "-boP6sg6q4jo",
        "outputId": "294bdb3e-7dbe-49b3-d813-56c14246df8e"
      },
      "execution_count": 603,
      "outputs": [
        {
          "output_type": "execute_result",
          "data": {
            "text/plain": [
              "<matplotlib.lines.Line2D at 0x7f00cd298b50>"
            ]
          },
          "metadata": {},
          "execution_count": 603
        },
        {
          "output_type": "display_data",
          "data": {
            "text/plain": [
              "<Figure size 864x576 with 2 Axes>"
            ],
            "image/png": "[encoded data removed]"
          },
          "metadata": {}
        }
      ]
    },
    {
      "cell_type": "code",
      "source": [
        "output_df.loc[output_df['Precision']==max(output_df['Precision'])].head(1)"
      ],
      "metadata": {
        "colab": {
          "base_uri": "https://localhost:8080/",
          "height": 80
        },
        "id": "wx1mdfk6wbWD",
        "outputId": "555fea1f-cb7a-4719-87ca-6061c34a35dd"
      },
      "execution_count": 604,
      "outputs": [
        {
          "output_type": "execute_result",
          "data": {
            "text/plain": [
              "    Bar  Precision      F1  False Positive\n",
              "1  1.25   0.932432  0.8625               5"
            ],
            "text/html": [
              "\n",
              "  <div id=\"df-2a2ffa6d-f0b8-4a0d-bcc5-7aee2f6fe3ab\">\n",
              "    <div class=\"colab-df-container\">\n",
              "      <div>\n",
              "<style scoped>\n",
              "    .dataframe tbody tr th:only-of-type {\n",
              "        vertical-align: middle;\n",
              "    }\n",
              "\n",
              "    .dataframe tbody tr th {\n",
              "        vertical-align: top;\n",
              "    }\n",
              "\n",
              "    .dataframe thead th {\n",
              "        text-align: right;\n",
              "    }\n",
              "</style>\n",
              "<table border=\"1\" class=\"dataframe\">\n",
              "  <thead>\n",
              "    <tr style=\"text-align: right;\">\n",
              "      <th></th>\n",
              "      <th>Bar</th>\n",
              "      <th>Precision</th>\n",
              "      <th>F1</th>\n",
              "      <th>False Positive</th>\n",
              "    </tr>\n",
              "  </thead>\n",
              "  <tbody>\n",
              "    <tr>\n",
              "      <th>1</th>\n",
              "      <td>1.25</td>\n",
              "      <td>0.932432</td>\n",
              "      <td>0.8625</td>\n",
              "      <td>5</td>\n",
              "    </tr>\n",
              "  </tbody>\n",
              "</table>\n",
              "</div>\n",
              "      <button class=\"colab-df-convert\" onclick=\"convertToInteractive('df-2a2ffa6d-f0b8-4a0d-bcc5-7aee2f6fe3ab')\"\n",
              "              title=\"Convert this dataframe to an interactive table.\"\n",
              "              style=\"display:none;\">\n",
              "        \n",
              "  <svg xmlns=\"http://www.w3.org/2000/svg\" height=\"24px\"viewBox=\"0 0 24 24\"\n",
              "       width=\"24px\">\n",
              "    <path d=\"M0 0h24v24H0V0z\" fill=\"none\"/>\n",
              "    <path d=\"M18.56 5.44l.94 2.06.94-2.06 2.06-.94-2.06-.94-.94-2.06-.94 2.06-2.06.94zm-11 1L8.5 8.5l.94-2.06 2.06-.94-2.06-.94L8.5 2.5l-.94 2.06-2.06.94zm10 10l.94 2.06.94-2.06 2.06-.94-2.06-.94-.94-2.06-.94 2.06-2.06.94z\"/><path d=\"M17.41 7.96l-1.37-1.37c-.4-.4-.92-.59-1.43-.59-.52 0-1.04.2-1.43.59L10.3 9.45l-7.72 7.72c-.78.78-.78 2.05 0 2.83L4 21.41c.39.39.9.59 1.41.59.51 0 1.02-.2 1.41-.59l7.78-7.78 2.81-2.81c.8-.78.8-2.07 0-2.86zM5.41 20L4 18.59l7.72-7.72 1.47 1.35L5.41 20z\"/>\n",
              "  </svg>\n",
              "      </button>\n",
              "      \n",
              "  <style>\n",
              "    .colab-df-container {\n",
              "      display:flex;\n",
              "      flex-wrap:wrap;\n",
              "      gap: 12px;\n",
              "    }\n",
              "\n",
              "    .colab-df-convert {\n",
              "      background-color: #E8F0FE;\n",
              "      border: none;\n",
              "      border-radius: 50%;\n",
              "      cursor: pointer;\n",
              "      display: none;\n",
              "      fill: #1967D2;\n",
              "      height: 32px;\n",
              "      padding: 0 0 0 0;\n",
              "      width: 32px;\n",
              "    }\n",
              "\n",
              "    .colab-df-convert:hover {\n",
              "      background-color: #E2EBFA;\n",
              "      box-shadow: 0px 1px 2px rgba(60, 64, 67, 0.3), 0px 1px 3px 1px rgba(60, 64, 67, 0.15);\n",
              "      fill: #174EA6;\n",
              "    }\n",
              "\n",
              "    [theme=dark] .colab-df-convert {\n",
              "      background-color: #3B4455;\n",
              "      fill: #D2E3FC;\n",
              "    }\n",
              "\n",
              "    [theme=dark] .colab-df-convert:hover {\n",
              "      background-color: #434B5C;\n",
              "      box-shadow: 0px 1px 3px 1px rgba(0, 0, 0, 0.15);\n",
              "      filter: drop-shadow(0px 1px 2px rgba(0, 0, 0, 0.3));\n",
              "      fill: #FFFFFF;\n",
              "    }\n",
              "  </style>\n",
              "\n",
              "      <script>\n",
              "        const buttonEl =\n",
              "          document.querySelector('#df-2a2ffa6d-f0b8-4a0d-bcc5-7aee2f6fe3ab button.colab-df-convert');\n",
              "        buttonEl.style.display =\n",
              "          google.colab.kernel.accessAllowed ? 'block' : 'none';\n",
              "\n",
              "        async function convertToInteractive(key) {\n",
              "          const element = document.querySelector('#df-2a2ffa6d-f0b8-4a0d-bcc5-7aee2f6fe3ab');\n",
              "          const dataTable =\n",
              "            await google.colab.kernel.invokeFunction('convertToInteractive',\n",
              "                                                     [key], {});\n",
              "          if (!dataTable) return;\n",
              "\n",
              "          const docLinkHtml = 'Like what you see? Visit the ' +\n",
              "            '<a target=\"_blank\" href=https://colab.research.google.com/notebooks/data_table.ipynb>data table notebook</a>'\n",
              "            + ' to learn more about interactive tables.';\n",
              "          element.innerHTML = '';\n",
              "          dataTable['output_type'] = 'display_data';\n",
              "          await google.colab.output.renderOutput(dataTable, element);\n",
              "          const docLink = document.createElement('div');\n",
              "          docLink.innerHTML = docLinkHtml;\n",
              "          element.appendChild(docLink);\n",
              "        }\n",
              "      </script>\n",
              "    </div>\n",
              "  </div>\n",
              "  "
            ]
          },
          "metadata": {},
          "execution_count": 604
        }
      ]
    }
  ]
}